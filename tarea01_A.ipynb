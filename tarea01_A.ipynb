{
 "cells": [
  {
   "cell_type": "markdown",
   "id": "0a7e0ae1-c406-4f06-9f1c-c85e1c4ed8ef",
   "metadata": {},
   "source": [
    "# Tarea 01 - Programación en Python para Análisis de Datos\n",
    "\n",
    "## Integrantes:\n",
    "\n",
    "1. Integrante 1:\n",
    "2. Integrante 2:\n",
    "3. Integrante 3\n",
    "\n",
    "## Introducción\n",
    "\n",
    "Resuelva los siguientes problemas utilizando el lenguaje de programación Python.\n",
    "\n",
    "---"
   ]
  },
  {
   "cell_type": "markdown",
   "id": "18ba60ed-d269-4ef2-84a2-65c0ad9f57e8",
   "metadata": {},
   "source": [
    "# Ejercicios:\n",
    "\n",
    "\n",
    "---\n",
    "1. Implemente una **función** llamada *mpg_to_kpl* que reciba un número real (float) que represente las *millas por galón* y lo convierta a *kilómetros por litro*. Para esto, deberá investigar la ecuación matemática (el valor escalar por el que se deben multiplicar las *mpg*) que realiza esta conversión y programarla. La evaluación considerará únicamente el contenido de la función. **(1 pto)**"
   ]
  },
  {
   "cell_type": "code",
   "execution_count": 4,
   "id": "e6a71726-748f-4a7b-b9ee-e5ff18085d98",
   "metadata": {},
   "outputs": [
    {
     "name": "stdin",
     "output_type": "stream",
     "text": [
      "Ingrese la cantidad de millas por galon que da su vehiculo:  4\n"
     ]
    },
    {
     "name": "stdout",
     "output_type": "stream",
     "text": [
      "Su vehiculo da 1.7005714044185438 kilometros por litro de combustible.\n"
     ]
    }
   ],
   "source": [
    "################################################################################\n",
    "# Programe en esta celda su funcion\n",
    "def mpg_to_kpl(mpg: float)-> float:\n",
    "     # 1 milla = 1.60934 kilómetros\n",
    "    # 1 galón = 3.78541 litros\n",
    "    valor_escalar = 1.60934 / 3.78541\n",
    "    return mpg * valor_escalar\n",
    "\n",
    "\n",
    "################################################################################\n",
    "\n",
    "mi_dato_mpg = float(input(\"Ingrese la cantidad de millas por galon que da su vehiculo: \"))\n",
    "mi_dato_kpl = mpg_to_kpl(mi_dato_mpg)\n",
    "\n",
    "print(f\"Su vehiculo da {mi_dato_kpl} kilometros por litro de combustible.\")"
   ]
  },
  {
   "cell_type": "markdown",
   "id": "afad0c26-3ce3-4176-8e7c-d7e1a2f574b1",
   "metadata": {},
   "source": [
    "---\n",
    "2. Cree una **función** llamada *new_covid_patient* que reciba:\n",
    "   1. Un RUT\n",
    "   2. Un nombre\n",
    "   3. Un apellido\n",
    "   4. Grado de severidad (leve, medio o grave)\n",
    "   5. El índice de masa corporal (IMC)\n",
    "\n",
    "   Su función deberá retornar un *diccionario* que contenga todos los datos del paciente utilizando las llaves: \"name\", \"lastname\", \"severity\" y \"bmi\", respectivamente. **(2 ptos)**"
   ]
  },
  {
   "cell_type": "code",
   "execution_count": 5,
   "id": "75bb3dab-1656-428c-b6b8-743ae5df9b47",
   "metadata": {},
   "outputs": [
    {
     "name": "stdout",
     "output_type": "stream",
     "text": [
      "Ingrese los datos de su paciente: \n"
     ]
    },
    {
     "name": "stdin",
     "output_type": "stream",
     "text": [
      "\tRut:  234\n",
      "\tNombre:  ADC\n",
      "\tApellido:  DFG\n",
      "\tSeveridad (leve, medio o grave):  leve\n",
      "\tIndice de masa corporal:  32\n"
     ]
    },
    {
     "name": "stdout",
     "output_type": "stream",
     "text": [
      "Su paciente ha sido creado. Los datos son: {'rut': '234', 'nombre': 'ADC', 'apellido': 'DFG', 'severidad': 'leve', 'imc': 32.0}\n"
     ]
    }
   ],
   "source": [
    "################################################################################\n",
    "# Programe en esta celda su funcion\n",
    "def new_covid_patient(rut, nombre, apellido, severidad, imc):\n",
    "    return{\n",
    "        \"rut\": rut,\n",
    "        \"nombre\": nombre,\n",
    "        \"apellido\": apellido,\n",
    "        \"severidad\": severidad,\n",
    "        \"imc\": imc\n",
    "    }\n",
    "\n",
    "################################################################################\n",
    "\n",
    "print(\"Ingrese los datos de su paciente: \")\n",
    "rut = input(\"\\tRut: \")\n",
    "nombre = input(\"\\tNombre: \")\n",
    "apellido = input(\"\\tApellido: \")\n",
    "severidad = input(\"\\tSeveridad (leve, medio o grave): \")\n",
    "imc = float(input(\"\\tIndice de masa corporal: \"))\n",
    "\n",
    "paciente = new_covid_patient(rut, nombre, apellido, severidad, imc)\n",
    "\n",
    "print(f\"Su paciente ha sido creado. Los datos son: {paciente}\")"
   ]
  },
  {
   "cell_type": "markdown",
   "id": "551d593a-a60a-4383-a392-a7861cfa64e2",
   "metadata": {},
   "source": [
    "---\n",
    "3. Utilice la función creada en el *ejercicio 2* para leer *n* pacientes. Guarde los pacientes en una *lista*. Finalmente, muestre la lista por consola ordenada de acuerdo con los siguientes criterios:\n",
    "\n",
    "   1. Por severidad ascendente (leve -> medio -> grave).\n",
    "   2. Por orden alfabético de los apellidos.\n",
    "   3. Por IMC ascendente.\n",
    "    \n",
    "   **(3 ptos)**"
   ]
  },
  {
   "cell_type": "code",
   "execution_count": 6,
   "id": "24cbe133-d3b8-45b0-9456-3f6cf2bf766e",
   "metadata": {},
   "outputs": [
    {
     "name": "stdin",
     "output_type": "stream",
     "text": [
      "Ingrese la cantidad de pacientes:  2\n",
      "Ingrese el RUT:  234\n",
      "Ingrese el nombre:  adg\n",
      "Ingrese el apellido:  afh\n",
      "Ingrese el grado de severidad (leve, medio, grave):  leve\n",
      "Ingrese el IMC:  23\n",
      "Ingrese el RUT:  345\n",
      "Ingrese el nombre:  dfh\n",
      "Ingrese el apellido:  djk\n",
      "Ingrese el grado de severidad (leve, medio, grave):  medio\n",
      "Ingrese el IMC:  45\n"
     ]
    },
    {
     "name": "stdout",
     "output_type": "stream",
     "text": [
      "\n",
      "Pacientes ordenados por severidad:\n",
      "{'rut': '234', 'nombre': 'adg', 'apellido': 'afh', 'severidad': 'leve', 'imc': 23.0}\n",
      "{'rut': '345', 'nombre': 'dfh', 'apellido': 'djk', 'severidad': 'medio', 'imc': 45.0}\n",
      "\n",
      "Pacientes ordenados por apellido:\n",
      "{'rut': '234', 'nombre': 'adg', 'apellido': 'afh', 'severidad': 'leve', 'imc': 23.0}\n",
      "{'rut': '345', 'nombre': 'dfh', 'apellido': 'djk', 'severidad': 'medio', 'imc': 45.0}\n",
      "\n",
      "Pacientes ordenados por IMC:\n",
      "{'rut': '234', 'nombre': 'adg', 'apellido': 'afh', 'severidad': 'leve', 'imc': 23.0}\n",
      "{'rut': '345', 'nombre': 'dfh', 'apellido': 'djk', 'severidad': 'medio', 'imc': 45.0}\n"
     ]
    }
   ],
   "source": [
    "n = int(input(\"Ingrese la cantidad de pacientes: \"))\n",
    "\n",
    "# Utilice la siguiente lista para guardar los datos de cada paciente\n",
    "pacientes = []\n",
    "\n",
    "# Utilice este ciclo para leer cada uno de los *n* pacientes\n",
    "for i in range(n):\n",
    "    rut = input(\"Ingrese el RUT: \")\n",
    "    nombre = input(\"Ingrese el nombre: \")\n",
    "    apellido = input(\"Ingrese el apellido: \")\n",
    "    severidad = input(\"Ingrese el grado de severidad (leve, medio, grave): \")\n",
    "    imc = float(input(\"Ingrese el IMC: \"))\n",
    "# Crear y añadir el paciente a la lista\n",
    "    paciente = new_covid_patient(rut, nombre, apellido, severidad, imc)\n",
    "    pacientes.append(paciente)\n",
    "  \n",
    "\n",
    "#A) Por severidad ascendente (leve -> medio -> grave). \n",
    "def ordenar_por_severidad(pacientes):\n",
    "   order_severidad = {\"leve\": 0, \"medio\": 1, \"grave\": 2}\n",
    "   return sorted(pacientes, key=lambda x: order_severidad.get(x[\"severidad\"],3))\n",
    "\n",
    "#B)Por orden alfabético de los apellidos.\n",
    "def ordenar_por_apellido(pacientes):\n",
    "    return sorted(pacientes, key=lambda x: x[\"apellido\"])\n",
    "\n",
    "#C) Por IMC ascendente.\n",
    "def ordenar_por_IMC(pacientes):\n",
    "    return sorted(pacientes, key=lambda x: x[\"imc\"])\n",
    "\n",
    "# Luego de leer los datos ordene e imprima (*print*) los datos de la lista.\n",
    "#...\n",
    "#A) Por severidad ascendente (leve -> medio -> grave).\n",
    "print(\"\\nPacientes ordenados por severidad:\")\n",
    "for paciente in ordenar_por_severidad(pacientes):\n",
    "    print(paciente)\n",
    "#B)Por orden alfabético de los apellidos.\n",
    "print(\"\\nPacientes ordenados por apellido:\")\n",
    "for paciente in ordenar_por_apellido(pacientes):\n",
    "    print(paciente)\n",
    "    \n",
    "#C) Por IMC ascendente.\n",
    "print(\"\\nPacientes ordenados por IMC:\")\n",
    "for paciente in ordenar_por_IMC(pacientes):\n",
    "    print(paciente)"
   ]
  },
  {
   "cell_type": "markdown",
   "id": "fb08c68d-9ba7-4a3b-bb7a-d42f81b8623e",
   "metadata": {},
   "source": [
    "---\n",
    "4. Realice un pequeño análisis exploratorio del archivo *covidtotals.csv*. Utilice al menos 5 comandos diferentes. **(3 ptos)**"
   ]
  },
  {
   "cell_type": "code",
   "execution_count": 2,
   "id": "c06237e4-2ce3-42f2-b60b-1f053e8ec2fa",
   "metadata": {},
   "outputs": [
    {
     "name": "stdout",
     "output_type": "stream",
     "text": [
      "<class 'pandas.core.frame.DataFrame'>\n",
      "RangeIndex: 210 entries, 0 to 209\n",
      "Data columns (total 12 columns):\n",
      " #   Column           Non-Null Count  Dtype  \n",
      "---  ------           --------------  -----  \n",
      " 0   iso_code         210 non-null    object \n",
      " 1   lastdate         210 non-null    object \n",
      " 2   location         210 non-null    object \n",
      " 3   total_cases      210 non-null    int64  \n",
      " 4   total_deaths     210 non-null    int64  \n",
      " 5   total_cases_pm   209 non-null    float64\n",
      " 6   total_deaths_pm  209 non-null    float64\n",
      " 7   population       210 non-null    float64\n",
      " 8   pop_density      198 non-null    float64\n",
      " 9   median_age       186 non-null    float64\n",
      " 10  gdp_per_capita   182 non-null    float64\n",
      " 11  hosp_beds        164 non-null    float64\n",
      "dtypes: float64(7), int64(2), object(3)\n",
      "memory usage: 19.8+ KB\n"
     ]
    },
    {
     "data": {
      "text/plain": [
       "iso_code            0\n",
       "lastdate            0\n",
       "location            0\n",
       "total_cases         0\n",
       "total_deaths        0\n",
       "total_cases_pm      1\n",
       "total_deaths_pm     1\n",
       "population          0\n",
       "pop_density        12\n",
       "median_age         24\n",
       "gdp_per_capita     28\n",
       "hosp_beds          46\n",
       "dtype: int64"
      ]
     },
     "execution_count": 2,
     "metadata": {},
     "output_type": "execute_result"
    }
   ],
   "source": [
    "import pandas as pd\n",
    "\n",
    "datos = pd.read_csv(\"covidtotals.csv\")\n",
    "\n",
    "#1)#Dimensiones del data frame datos \"covidtotals.csv\" (#n filas, #n columnas)\n",
    "datos.shape\n",
    "#2)Informacion general del dataframe, da información sobre los tipos y cantidad de datos (non-null) de cada columna\n",
    "datos.info()\n",
    "#Conocer los valores nulos por columna\n",
    "datos.isnull().sum()\n",
    "#3) #Mostras primeras/ultimas filas del archivo\n",
    "datos.head()\n",
    "datos.tail()\n",
    "# 4)informacion de las columnas(estadisticos basicos de las columnas numéricas)\n",
    "datos.describe()\n",
    "#5)Ordenar los datos por una columna en particular, en este caso en orden descendente por los valores de la columna 'total_cases'\n",
    "datos.sort_values(by='total_cases',ascending=False)\n"
   ]
  },
  {
   "cell_type": "code",
   "execution_count": null,
   "id": "b7126968-aba2-4e0b-b633-92de4486a042",
   "metadata": {},
   "outputs": [],
   "source": []
  }
 ],
 "metadata": {
  "kernelspec": {
   "display_name": "Python 3 (ipykernel)",
   "language": "python",
   "name": "python3"
  },
  "language_info": {
   "codemirror_mode": {
    "name": "ipython",
    "version": 3
   },
   "file_extension": ".py",
   "mimetype": "text/x-python",
   "name": "python",
   "nbconvert_exporter": "python",
   "pygments_lexer": "ipython3",
   "version": "3.8.10"
  }
 },
 "nbformat": 4,
 "nbformat_minor": 5
}
